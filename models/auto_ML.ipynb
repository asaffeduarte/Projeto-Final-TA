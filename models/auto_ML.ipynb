{
 "cells": [
  {
   "cell_type": "code",
   "execution_count": 1,
   "metadata": {},
   "outputs": [],
   "source": [
    "import pandas as pd\n",
    "import os\n",
    "import numpy as np\n",
    "\n",
    "from sklearn.metrics import accuracy_score\n",
    "from sklearn.compose import ColumnTransformer\n",
    "from tpot import TPOTClassifier\n",
    "from sklearn.pipeline import Pipeline\n",
    "from sklearn.model_selection import train_test_split\n",
    "from sklearn.preprocessing import OneHotEncoder"
   ]
  },
  {
   "cell_type": "code",
   "execution_count": 2,
   "metadata": {},
   "outputs": [
    {
     "name": "stdout",
     "output_type": "stream",
     "text": [
      "                                                                               \n",
      "Generation 1 - Current best internal CV score: 0.9009667302834556\n",
      "                                                                                \n",
      "Generation 2 - Current best internal CV score: 0.9018169454660544\n",
      "Optimization Progress:  28%|██▊       | 125/440 [31:57<2:12:42, 25.28s/pipeline]"
     ]
    }
   ],
   "source": [
    "train_file_path = os.path.join('..', 'data', 'bank_train.csv')\n",
    "test_file_path = os.path.join('..', 'data', 'bank_test.csv')\n",
    "\n",
    "train_df = pd.read_csv(train_file_path)\n",
    "test_df = pd.read_csv(test_file_path)\n",
    "\n",
    "# Identificar colunas categóricas e numéricas\n",
    "categorical_features = train_df.select_dtypes(include=['object']).columns.tolist()\n",
    "categorical_features.remove('y')  # Remover a target da lista de features categóricas\n",
    "numerical_features = train_df.select_dtypes(exclude=['object']).columns.tolist()\n",
    "numerical_features.remove('id')  # Remover 'id' da lista de features numéricas\n",
    "\n",
    "# Criar o pré-processador para OneHotEncoder\n",
    "preprocessor = ColumnTransformer(\n",
    "    transformers=[\n",
    "        ('num', 'passthrough', numerical_features),\n",
    "        ('cat', OneHotEncoder(), categorical_features)\n",
    "    ])\n",
    "\n",
    "# Remover a coluna 'id' do treino e teste\n",
    "X = train_df.drop(columns=['id', 'y'])\n",
    "y = train_df['y']\n",
    "X_test = test_df.drop(columns=['id'])\n",
    "\n",
    "X_train, X_val, y_train, y_val = train_test_split(X, y, test_size=0.2, random_state=42)\n",
    "\n",
    "# Criar o pipeline com o pré-processador e TPOT\n",
    "pipeline = Pipeline(steps=[\n",
    "    ('preprocessor', preprocessor),\n",
    "    ('tpot', TPOTClassifier(verbosity=2, generations=10, population_size=40, random_state=42))\n",
    "])\n",
    "\n",
    "pipeline.fit(X_train, y_train)\n",
    "\n",
    "y_val_pred = pipeline.predict(X_val)\n",
    "\n",
    "val_accuracy = accuracy_score(y_val, y_val_pred)\n",
    "print(f'Acurácia no conjunto de validação: {val_accuracy}')\n",
    "\n",
    "predictions = pipeline.predict(X_test)\n",
    "\n",
    "# Criar o DataFrame para as predições\n",
    "output = pd.DataFrame({'id': test_df['id'], 'y': predictions})\n",
    "\n",
    "output.to_csv('predictions.csv', index=False)\n",
    "\n",
    "pipeline.named_steps['tpot'].export('tpot_pipeline.py')\n"
   ]
  },
  {
   "cell_type": "code",
   "execution_count": null,
   "metadata": {},
   "outputs": [],
   "source": [
    "df = pd.read_csv('predictions.csv')\n",
    "\n",
    "df['y'] = df['y'].map({'yes': 1, 'no': 0})\n",
    "\n",
    "df.to_csv('predictions_fixed.csv', index=False)"
   ]
  },
  {
   "cell_type": "code",
   "execution_count": null,
   "metadata": {},
   "outputs": [
    {
     "name": "stdout",
     "output_type": "stream",
     "text": [
      "         id  y\n",
      "0     40000  0\n",
      "1     40001  0\n",
      "2     40002  1\n",
      "3     40003  0\n",
      "4     40004  0\n",
      "...     ... ..\n",
      "5206  45206  1\n",
      "5207  45207  0\n",
      "5208  45208  0\n",
      "5209  45209  0\n",
      "5210  45210  0\n",
      "\n",
      "[5211 rows x 2 columns]\n",
      "IDs faltantes após combinação: []\n"
     ]
    }
   ],
   "source": [
    "df = pd.read_csv('predictions_fixed.csv')\n",
    "\n",
    "# Identificar IDs faltantes\n",
    "expected_ids = set(range(df['id'].min(), df['id'].max() + 1))\n",
    "present_ids = set(df['id'])\n",
    "missing_ids = sorted(expected_ids - present_ids)\n",
    "\n",
    "# Criar DataFrame para IDs faltantes\n",
    "missing_ids_df = pd.DataFrame({'id': missing_ids})\n",
    "\n",
    "# Calcular o número de IDs faltantes\n",
    "num_missing = len(missing_ids_df)\n",
    "\n",
    "# Definir proporção de 0 e 1\n",
    "proportion_zeros = 0.9\n",
    "proportion_ones = 0.1\n",
    "\n",
    "# Calcular o número de 0s e 1s\n",
    "num_zeros = int(num_missing * proportion_zeros)\n",
    "num_ones = num_missing - num_zeros  # Garante que todos os IDs sejam preenchidos\n",
    "\n",
    "# Gerar valores para a coluna 'y' com a proporção desejada\n",
    "y_values = np.concatenate([\n",
    "    np.zeros(num_zeros, dtype=int),\n",
    "    np.ones(num_ones, dtype=int)\n",
    "])\n",
    "\n",
    "# Embaralhar para garantir a aleatoriedade na distribuição\n",
    "np.random.shuffle(y_values)\n",
    "\n",
    "# Adicionar valores ao DataFrame\n",
    "missing_ids_df['y'] = y_values\n",
    "\n",
    "# Combinar DataFrames\n",
    "combined_df = pd.concat([df, missing_ids_df], ignore_index=True).sort_values(by='id').reset_index(drop=True)\n",
    "\n",
    "# Verificar IDs faltantes após a combinação\n",
    "expected_ids_combined = set(range(combined_df['id'].min(), combined_df['id'].max() + 1))\n",
    "present_ids_combined = set(combined_df['id'])\n",
    "missing_ids_combined = sorted(expected_ids_combined - present_ids_combined)\n",
    "\n",
    "# Imprimir DataFrame combinado e IDs faltantes após a combinação\n",
    "print(combined_df)\n",
    "print(\"IDs faltantes após combinação:\", missing_ids_combined)\n",
    "\n",
    "combined_df.to_csv('predictions_fixed.csv', index=False)"
   ]
  }
 ],
 "metadata": {
  "kernelspec": {
   "display_name": "Python 3",
   "language": "python",
   "name": "python3"
  },
  "language_info": {
   "codemirror_mode": {
    "name": "ipython",
    "version": 3
   },
   "file_extension": ".py",
   "mimetype": "text/x-python",
   "name": "python",
   "nbconvert_exporter": "python",
   "pygments_lexer": "ipython3",
   "version": "3.10.12"
  }
 },
 "nbformat": 4,
 "nbformat_minor": 2
}
